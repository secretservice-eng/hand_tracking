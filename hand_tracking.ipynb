{
 "cells": [
  {
   "cell_type": "code",
   "execution_count": 1,
   "id": "4befcef5-ea72-4309-9454-1cf7e7699cf9",
   "metadata": {},
   "outputs": [
    {
     "name": "stdout",
     "output_type": "stream",
     "text": [
      "hello world\n"
     ]
    }
   ],
   "source": [
    "print(\"hello world\")"
   ]
  },
  {
   "cell_type": "code",
   "execution_count": 2,
   "id": "9e2db651-a1ca-4653-b15c-60602f623957",
   "metadata": {},
   "outputs": [
    {
     "name": "stdout",
     "output_type": "stream",
     "text": [
      "Requirement already satisfied: opencv-python in c:\\users\\hp\\anaconda3\\envs\\python-b\\lib\\site-packages (4.12.0.88)\n",
      "Requirement already satisfied: numpy<2.3.0,>=2 in c:\\users\\hp\\anaconda3\\envs\\python-b\\lib\\site-packages (from opencv-python) (2.2.6)\n"
     ]
    }
   ],
   "source": [
    "!pip install opencv-python\n"
   ]
  },
  {
   "cell_type": "code",
   "execution_count": 3,
   "id": "4d808083-4054-4e43-9d9c-92a4130893d5",
   "metadata": {},
   "outputs": [],
   "source": [
    "import cv2\n",
    "import numpy as np\n",
    "import mediapipe as mp\n",
    "\n",
    "\n"
   ]
  },
  {
   "cell_type": "code",
   "execution_count": 6,
   "id": "123733d8-9df0-49d5-9b53-3b7b1c31ae67",
   "metadata": {},
   "outputs": [],
   "source": [
    "import cv2\n",
    "import mediapipe as mp\n",
    "\n",
    "mp_hands = mp.solutions.hands\n",
    "mp_draw = mp.solutions.drawing_utils\n",
    "\n",
    "cap = cv2.VideoCapture(0)\n",
    "\n",
    "with mp_hands.Hands(\n",
    "    max_num_hands=10,  \n",
    "    min_detection_confidence=0.7,\n",
    "    min_tracking_confidence=0.7\n",
    ") as hands:\n",
    "    while True:\n",
    "        ret, frame = cap.read()\n",
    "        if not ret:\n",
    "            print(\"Kamera görüntüsü alınamadı\")\n",
    "            break\n",
    "\n",
    "        rgb_frame = cv2.cvtColor(frame, cv2.COLOR_BGR2RGB)\n",
    "        results = hands.process(rgb_frame)\n",
    "\n",
    "        total_fingers = 0 \n",
    "\n",
    "        if results.multi_hand_landmarks:\n",
    "            for hand_landmarks, hand_handedness in zip(results.multi_hand_landmarks,\n",
    "                                                       results.multi_handedness):\n",
    "\n",
    "                hand_label = hand_handedness.classification[0].label  \n",
    "                mp_draw.draw_landmarks(frame, hand_landmarks, mp_hands.HAND_CONNECTIONS)\n",
    "\n",
    "                landmarks = hand_landmarks.landmark\n",
    "                fingers = []\n",
    "\n",
    "\n",
    "                if hand_label == \"Right\":\n",
    "                    if landmarks[4].x < landmarks[3].x:\n",
    "                        fingers.append(1)\n",
    "                    else:\n",
    "                        fingers.append(0)\n",
    "                else:  \n",
    "                    if landmarks[4].x > landmarks[3].x:\n",
    "                        fingers.append(1)\n",
    "                    else:\n",
    "                        fingers.append(0)\n",
    "\n",
    "\n",
    "                tip_ids = [8, 12, 16, 20]\n",
    "                for tip in tip_ids:\n",
    "                    if landmarks[tip].y < landmarks[tip - 2].y:\n",
    "                        fingers.append(1)\n",
    "                    else:\n",
    "                        fingers.append(0)\n",
    "\n",
    "                finger_count = sum(fingers)\n",
    "                total_fingers += finger_count\n",
    "\n",
    "\n",
    "        cv2.rectangle(frame, (40, 60), (500, 110), (0, 0, 0), -1) \n",
    "        cv2.putText(frame, f\"Total Fingers: {total_fingers}\", (50, 100),\n",
    "                    cv2.FONT_HERSHEY_SIMPLEX, 1.5, (0, 255, 0), 3)\n",
    "\n",
    "        cv2.imshow(\"Kamera\", frame)\n",
    "\n",
    "        if cv2.waitKey(1) != -1:\n",
    "            break\n",
    "\n",
    "cap.release()\n",
    "cv2.destroyAllWindows()\n"
   ]
  },
  {
   "cell_type": "code",
   "execution_count": null,
   "id": "3bdccc31-a862-4c2a-beaa-46b0526892df",
   "metadata": {},
   "outputs": [],
   "source": []
  }
 ],
 "metadata": {
  "kernelspec": {
   "display_name": "Python 3 (ipykernel)",
   "language": "python",
   "name": "python3"
  },
  "language_info": {
   "codemirror_mode": {
    "name": "ipython",
    "version": 3
   },
   "file_extension": ".py",
   "mimetype": "text/x-python",
   "name": "python",
   "nbconvert_exporter": "python",
   "pygments_lexer": "ipython3",
   "version": "3.11.13"
  }
 },
 "nbformat": 4,
 "nbformat_minor": 5
}
